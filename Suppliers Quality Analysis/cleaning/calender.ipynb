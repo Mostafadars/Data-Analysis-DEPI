{
 "cells": [
  {
   "cell_type": "code",
   "execution_count": 1,
   "metadata": {},
   "outputs": [],
   "source": [
    "import pandas as pd\n",
    "import numpy as np"
   ]
  },
  {
   "cell_type": "code",
   "execution_count": 3,
   "metadata": {},
   "outputs": [
    {
     "data": {
      "text/html": [
       "<div>\n",
       "<style scoped>\n",
       "    .dataframe tbody tr th:only-of-type {\n",
       "        vertical-align: middle;\n",
       "    }\n",
       "\n",
       "    .dataframe tbody tr th {\n",
       "        vertical-align: top;\n",
       "    }\n",
       "\n",
       "    .dataframe thead th {\n",
       "        text-align: right;\n",
       "    }\n",
       "</style>\n",
       "<table border=\"1\" class=\"dataframe\">\n",
       "  <thead>\n",
       "    <tr style=\"text-align: right;\">\n",
       "      <th></th>\n",
       "      <th>Date</th>\n",
       "      <th>Year</th>\n",
       "      <th>Quarter</th>\n",
       "      <th>Month</th>\n",
       "      <th>Name of Month</th>\n",
       "      <th>Day</th>\n",
       "    </tr>\n",
       "  </thead>\n",
       "  <tbody>\n",
       "    <tr>\n",
       "      <th>4744</th>\n",
       "      <td>2024-12-27</td>\n",
       "      <td>2024</td>\n",
       "      <td>4</td>\n",
       "      <td>12</td>\n",
       "      <td>December</td>\n",
       "      <td>27</td>\n",
       "    </tr>\n",
       "    <tr>\n",
       "      <th>4745</th>\n",
       "      <td>2024-12-28</td>\n",
       "      <td>2024</td>\n",
       "      <td>4</td>\n",
       "      <td>12</td>\n",
       "      <td>December</td>\n",
       "      <td>28</td>\n",
       "    </tr>\n",
       "    <tr>\n",
       "      <th>4746</th>\n",
       "      <td>2024-12-29</td>\n",
       "      <td>2024</td>\n",
       "      <td>4</td>\n",
       "      <td>12</td>\n",
       "      <td>December</td>\n",
       "      <td>29</td>\n",
       "    </tr>\n",
       "    <tr>\n",
       "      <th>4747</th>\n",
       "      <td>2024-12-30</td>\n",
       "      <td>2024</td>\n",
       "      <td>4</td>\n",
       "      <td>12</td>\n",
       "      <td>December</td>\n",
       "      <td>30</td>\n",
       "    </tr>\n",
       "    <tr>\n",
       "      <th>4748</th>\n",
       "      <td>2024-12-31</td>\n",
       "      <td>2024</td>\n",
       "      <td>4</td>\n",
       "      <td>12</td>\n",
       "      <td>December</td>\n",
       "      <td>31</td>\n",
       "    </tr>\n",
       "  </tbody>\n",
       "</table>\n",
       "</div>"
      ],
      "text/plain": [
       "           Date  Year  Quarter  Month Name of Month  Day\n",
       "4744 2024-12-27  2024        4     12      December   27\n",
       "4745 2024-12-28  2024        4     12      December   28\n",
       "4746 2024-12-29  2024        4     12      December   29\n",
       "4747 2024-12-30  2024        4     12      December   30\n",
       "4748 2024-12-31  2024        4     12      December   31"
      ]
     },
     "execution_count": 3,
     "metadata": {},
     "output_type": "execute_result"
    }
   ],
   "source": [
    "# Define the date range\n",
    "date_range = pd.date_range(start='2012-01-01', end='2024-12-31', freq='D')\n",
    "\n",
    "# Create a DataFrame\n",
    "calendar_df = pd.DataFrame({\n",
    "    'Date': date_range,\n",
    "    'Year': date_range.year,\n",
    "    'Quarter': date_range.quarter,\n",
    "    'Month': date_range.month,\n",
    "    'Name of Month': date_range.strftime('%B'),  # Full month name\n",
    "    'Day': date_range.day\n",
    "})\n",
    "\n",
    "# Show the first few rows\n",
    "calendar_df.tail()"
   ]
  },
  {
   "cell_type": "code",
   "execution_count": 4,
   "metadata": {},
   "outputs": [
    {
     "name": "stdout",
     "output_type": "stream",
     "text": [
      "Calendar table saved as 'calendar_table.xlsx'.\n"
     ]
    }
   ],
   "source": [
    "# Save the DataFrame to an Excel file\n",
    "calendar_df.to_excel('calendar_table.xlsx', index=False)\n",
    "\n",
    "print(\"Calendar table saved as 'calendar_table.xlsx'.\")"
   ]
  }
 ],
 "metadata": {
  "kernelspec": {
   "display_name": "Python 3",
   "language": "python",
   "name": "python3"
  },
  "language_info": {
   "codemirror_mode": {
    "name": "ipython",
    "version": 3
   },
   "file_extension": ".py",
   "mimetype": "text/x-python",
   "name": "python",
   "nbconvert_exporter": "python",
   "pygments_lexer": "ipython3",
   "version": "3.10.7"
  }
 },
 "nbformat": 4,
 "nbformat_minor": 2
}
